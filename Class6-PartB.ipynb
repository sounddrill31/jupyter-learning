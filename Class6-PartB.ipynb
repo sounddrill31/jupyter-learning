{
 "cells": [
  {
   "cell_type": "code",
   "execution_count": 1,
   "id": "df96f219-089c-40cc-b156-d09ee7c431d7",
   "metadata": {},
   "outputs": [
    {
     "name": "stdout",
     "output_type": "stream",
     "text": [
      "['Hello', 'name', 'Souhrud']\n"
     ]
    }
   ],
   "source": [
    "# Simple stopword impl\n",
    "\n",
    "d = [\"Hello\", \"my\", \"name\", \"is\", \"Souhrud\"]\n",
    "e = [\"is\",\"my\"]\n",
    "\n",
    "res = [word for word in d if word not in e]\n",
    "print(res)"
   ]
  },
  {
   "cell_type": "code",
   "execution_count": 10,
   "id": "c62ad0d9-4039-4ab3-bd32-c5c0de5fe3bf",
   "metadata": {},
   "outputs": [
    {
     "name": "stdout",
     "output_type": "stream",
     "text": [
      "Original Words: ['nlp', 'is', 'amazing', '!', 'it', 'helps', 'computers', 'understand', 'human', 'language', '.']\n",
      "Filtered Words (No Stopwords): ['nlp', 'amazing', '!', 'helps', 'computers', 'understand', 'human', 'language', '.']\n"
     ]
    }
   ],
   "source": [
    "import nltk\n",
    "from nltk.tokenize import word_tokenize\n",
    "from nltk.corpus import stopwords\n",
    "\n",
    "# Download necessary resources\n",
    "nltk.download('punkt_tab', quiet=True)\n",
    "nltk.download('stopwords', quiet=True)\n",
    "\n",
    "# Example sentence\n",
    "text = \"NLP is amazing! It helps computers understand human language.\"\n",
    "\n",
    "# Tokenization\n",
    "words = word_tokenize(text.lower())  # Convert to lowercase\n",
    "\n",
    "# Remove stopwords\n",
    "filtered_words = [word for word in words if word not in stopwords.words('english')]\n",
    "\n",
    "print(\"Original Words:\", words)\n",
    "print(\"Filtered Words (No Stopwords):\", filtered_words)\n"
   ]
  },
  {
   "cell_type": "code",
   "execution_count": null,
   "id": "03a880f0-0e03-449f-bc8d-7ad2ffd718a0",
   "metadata": {},
   "outputs": [],
   "source": []
  }
 ],
 "metadata": {
  "kernelspec": {
   "display_name": "Python 3 (ipykernel)",
   "language": "python",
   "name": "python3"
  },
  "language_info": {
   "codemirror_mode": {
    "name": "ipython",
    "version": 3
   },
   "file_extension": ".py",
   "mimetype": "text/x-python",
   "name": "python",
   "nbconvert_exporter": "python",
   "pygments_lexer": "ipython3",
   "version": "3.13.1"
  }
 },
 "nbformat": 4,
 "nbformat_minor": 5
}
