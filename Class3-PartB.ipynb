{
 "cells": [
  {
   "cell_type": "code",
   "execution_count": 1,
   "id": "3b2f60cc-b6af-4f73-9a91-aa1662e7c9b1",
   "metadata": {},
   "outputs": [
    {
     "name": "stdout",
     "output_type": "stream",
     "text": [
      "         Date Product    Store  Sales ($)\n",
      "0  2024-03-01  Laptop  Store A       1500\n",
      "1  2024-03-01   Phone  Store A        800\n",
      "2  2024-03-01  Laptop  Store B       1700\n",
      "3  2024-03-02   Phone  Store A        900\n",
      "4  2024-03-02  Laptop  Store B       1600\n"
     ]
    }
   ],
   "source": [
    "import pandas as pd\n",
    "\n",
    "# Dataframe\n",
    "data = {\n",
    "    \"Date\": [\"2024-03-01\", \"2024-03-01\", \"2024-03-01\", \"2024-03-02\", \"2024-03-02\"],\n",
    "    \"Product\": [\"Laptop\", \"Phone\", \"Laptop\", \"Phone\", \"Laptop\"],\n",
    "    \"Store\": [\"Store A\", \"Store A\", \"Store B\", \"Store A\", \"Store B\"],\n",
    "    \"Sales ($)\": [1500, 800, 1700, 900, 1600]\n",
    "}\n",
    "\n",
    "df = pd.DataFrame(data)\n",
    "print(f\"{df}\")"
   ]
  },
  {
   "cell_type": "markdown",
   "id": "0f0aa383-f1c1-4733-b59e-a48477349dfc",
   "metadata": {},
   "source": [
    "Manager wants to know date-wise product-wise sales\n",
    "\n",
    "Eg. Manager wants to know total sales of laptop or total sales of phones"
   ]
  },
  {
   "cell_type": "code",
   "execution_count": 3,
   "id": "9217ba1d-2b9a-40a1-9bcf-988ac0ec1b6d",
   "metadata": {},
   "outputs": [
    {
     "name": "stdout",
     "output_type": "stream",
     "text": [
      "Product     Laptop  Phone\n",
      "Date                     \n",
      "2024-03-01    3200    800\n",
      "2024-03-02    1600    900\n"
     ]
    }
   ],
   "source": [
    "pivot_df = df.pivot_table(index=\"Date\", columns=\"Product\", values=\"Sales ($)\", aggfunc=\"sum\")\n",
    "\n",
    "print(f\"{pivot_df}\")"
   ]
  },
  {
   "cell_type": "code",
   "execution_count": null,
   "id": "00ca77dc-cd7f-4505-9045-615222b000e8",
   "metadata": {},
   "outputs": [],
   "source": []
  }
 ],
 "metadata": {
  "kernelspec": {
   "display_name": "Python 3 (ipykernel)",
   "language": "python",
   "name": "python3"
  },
  "language_info": {
   "codemirror_mode": {
    "name": "ipython",
    "version": 3
   },
   "file_extension": ".py",
   "mimetype": "text/x-python",
   "name": "python",
   "nbconvert_exporter": "python",
   "pygments_lexer": "ipython3",
   "version": "3.13.1"
  }
 },
 "nbformat": 4,
 "nbformat_minor": 5
}
