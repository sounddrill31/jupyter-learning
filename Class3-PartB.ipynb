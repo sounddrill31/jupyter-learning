{
 "cells": [
  {
   "cell_type": "code",
   "execution_count": 1,
   "id": "3b2f60cc-b6af-4f73-9a91-aa1662e7c9b1",
   "metadata": {},
   "outputs": [
    {
     "name": "stdout",
     "output_type": "stream",
     "text": [
      "         Date Product    Store  Sales ($)\n",
      "0  2024-03-01  Laptop  Store A       1800\n",
      "1  2024-03-01   Phone  Store A         32\n",
      "2  2024-03-01  Laptop  Store B       5000\n",
      "3  2024-03-02   Phone  Store A       2100\n",
      "4  2024-03-02  Laptop  Store B        400\n",
      "5  2024-03-03      PC  Store C      99000\n"
     ]
    }
   ],
   "source": [
    "import pandas as pd\n",
    "\n",
    "# Dataframe\n",
    "data = {\n",
    "    \"Date\": [\"2024-03-01\", \"2024-03-01\", \"2024-03-01\", \"2024-03-02\", \"2024-03-02\", \"2024-03-03\"],\n",
    "    \"Product\": [\"Laptop\", \"Phone\", \"Laptop\", \"Phone\", \"Laptop\", \"PC\"],\n",
    "    \"Store\": [\"Store A\", \"Store A\", \"Store B\", \"Store A\", \"Store B\", \"Store C\"],\n",
    "    \"Sales ($)\": [1800, 32, 5000, 2100, 400, 99000]\n",
    "}\n",
    "\n",
    "df = pd.DataFrame(data)\n",
    "print(f\"{df}\")"
   ]
  },
  {
   "cell_type": "markdown",
   "id": "0f0aa383-f1c1-4733-b59e-a48477349dfc",
   "metadata": {},
   "source": [
    "Manager wants to know date-wise product-wise sales\n",
    "\n",
    "Eg. Manager wants to know total sales of laptop or total sales of phones"
   ]
  },
  {
   "cell_type": "code",
   "execution_count": 2,
   "id": "9217ba1d-2b9a-40a1-9bcf-988ac0ec1b6d",
   "metadata": {},
   "outputs": [
    {
     "name": "stdout",
     "output_type": "stream",
     "text": [
      "Product     Laptop       PC   Phone\n",
      "Date                               \n",
      "2024-03-01  6800.0      NaN    32.0\n",
      "2024-03-02   400.0      NaN  2100.0\n",
      "2024-03-03     NaN  99000.0     NaN\n"
     ]
    }
   ],
   "source": [
    "# Sum of sales\n",
    "\n",
    "pivot_df_sum = df.pivot_table(index=\"Date\", columns=\"Product\", values=\"Sales ($)\", aggfunc=\"sum\")\n",
    "\n",
    "print(f\"{pivot_df_sum}\")"
   ]
  },
  {
   "cell_type": "code",
   "execution_count": 3,
   "id": "00ca77dc-cd7f-4505-9045-615222b000e8",
   "metadata": {},
   "outputs": [
    {
     "name": "stdout",
     "output_type": "stream",
     "text": [
      "Product     Laptop       PC   Phone\n",
      "Date                               \n",
      "2024-03-01  3400.0      NaN    32.0\n",
      "2024-03-02   400.0      NaN  2100.0\n",
      "2024-03-03     NaN  99000.0     NaN\n"
     ]
    }
   ],
   "source": [
    "# Mean of sales\n",
    "pivot_df_avg = df.pivot_table(index=\"Date\", columns=\"Product\", values=\"Sales ($)\", aggfunc=\"mean\")\n",
    "\n",
    "print(f\"{pivot_df_avg}\")"
   ]
  },
  {
   "cell_type": "markdown",
   "id": "8cdb9498-158a-4b87-b814-78151aef4ae5",
   "metadata": {},
   "source": [
    "# Feature Engineering\n",
    "\n",
    "Feature Engineering is a process of preparing raw data for Machine Learning models it involves transforming raw data into set of features that can be used to make predictions.\n",
    "\n",
    "A real estate company wants to predict house prices using a dataset that includes size(sq ft), bedrooms, location, and year built. However, raw data alone may not be sufficient for an accurate model. Feature engineering can improve prediction accuracy.\n",
    "\n",
    "eg. 1200sq ft, 3 BHK, Hoodi, 2012 alone isn't enough data\n",
    "\n",
    "# What is ML?\n",
    "Traditional: Problems, Steps... Machine does the steps\n",
    "ML: Problem, Want solution -> Machine gives/does the steps"
   ]
  },
  {
   "cell_type": "code",
   "execution_count": null,
   "id": "cb318f1f-d493-4bc5-aa16-15e700245630",
   "metadata": {},
   "outputs": [],
   "source": []
  }
 ],
 "metadata": {
  "kernelspec": {
   "display_name": "Python 3 (ipykernel)",
   "language": "python",
   "name": "python3"
  },
  "language_info": {
   "codemirror_mode": {
    "name": "ipython",
    "version": 3
   },
   "file_extension": ".py",
   "mimetype": "text/x-python",
   "name": "python",
   "nbconvert_exporter": "python",
   "pygments_lexer": "ipython3",
   "version": "3.13.1"
  }
 },
 "nbformat": 4,
 "nbformat_minor": 5
}
