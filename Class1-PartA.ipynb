{
 "cells": [
  {
   "cell_type": "code",
   "execution_count": 5,
   "id": "b01c23b2-d479-40de-806f-62543329d114",
   "metadata": {},
   "outputs": [
    {
     "data": {
      "text/plain": [
       "45"
      ]
     },
     "execution_count": 5,
     "metadata": {},
     "output_type": "execute_result"
    }
   ],
   "source": [
    "age = 20\n",
    "age = 45\n",
    "age"
   ]
  },
  {
   "cell_type": "markdown",
   "id": "a87d35d6-69b2-4bfa-b1a8-1107c1e083bb",
   "metadata": {},
   "source": [
    "`input()` feeds raw data\n",
    "\n",
    "`int()` converts given argument data to int\n",
    "`str()` converts given argument data to string"
   ]
  },
  {
   "cell_type": "code",
   "execution_count": 13,
   "id": "3fb6b219-32c8-4576-a410-ca30ae867101",
   "metadata": {},
   "outputs": [
    {
     "name": "stdout",
     "output_type": "stream",
     "text": [
      "Enter your age\n"
     ]
    },
    {
     "name": "stdin",
     "output_type": "stream",
     "text": [
      " 20\n"
     ]
    },
    {
     "name": "stdout",
     "output_type": "stream",
     "text": [
      "20\n"
     ]
    }
   ],
   "source": [
    "print(\"Enter your age\")\n",
    "age = input()\n",
    "print(age)"
   ]
  },
  {
   "cell_type": "code",
   "execution_count": 24,
   "id": "aa2b4acc-691f-48e1-8822-8be6d65e10c1",
   "metadata": {},
   "outputs": [
    {
     "name": "stdout",
     "output_type": "stream",
     "text": [
      "Enter your age\n"
     ]
    },
    {
     "name": "stdin",
     "output_type": "stream",
     "text": [
      " 20\n"
     ]
    },
    {
     "name": "stdout",
     "output_type": "stream",
     "text": [
      "In 2035, your age will be 30\n"
     ]
    }
   ],
   "source": [
    "print(\"Enter your age\")\n",
    "age = input()\n",
    "print(\"In 2035, your age will be\", int(age)+10)"
   ]
  },
  {
   "cell_type": "code",
   "execution_count": 30,
   "id": "4d7d2f05-513d-4c77-8a89-ce17633c20a5",
   "metadata": {},
   "outputs": [
    {
     "name": "stdout",
     "output_type": "stream",
     "text": [
      "Area of Circle is  78.53981633974483\n"
     ]
    }
   ],
   "source": [
    "import math\n",
    "#area of circle = pi * r * r\n",
    "radius = 5\n",
    "area = 0\n",
    "area = math.pow(radius,2)*math.pi\n",
    "print(\"Area of Circle is \", area)\n"
   ]
  },
  {
   "cell_type": "code",
   "execution_count": 38,
   "id": "01ddb174-5a63-4a64-a70f-9dff63049043",
   "metadata": {},
   "outputs": [
    {
     "name": "stdout",
     "output_type": "stream",
     "text": [
      "3.141592653589793\n"
     ]
    }
   ],
   "source": [
    "import math as m\n",
    "print(m.pi)"
   ]
  },
  {
   "cell_type": "code",
   "execution_count": 41,
   "id": "74a6e400-e38a-4447-9a39-c703f79139ef",
   "metadata": {},
   "outputs": [
    {
     "name": "stdout",
     "output_type": "stream",
     "text": [
      "Enter age!\n"
     ]
    },
    {
     "name": "stdin",
     "output_type": "stream",
     "text": [
      " 20\n"
     ]
    },
    {
     "name": "stdout",
     "output_type": "stream",
     "text": [
      "adult\n"
     ]
    }
   ],
   "source": [
    "print(\"Enter age!\")\n",
    "age = int(input())\n",
    "\n",
    "if age<18:\n",
    "    print(\"minor\")\n",
    "else:\n",
    "    print(\"adult\")"
   ]
  },
  {
   "cell_type": "code",
   "execution_count": 44,
   "id": "901fa7f3-66a8-4e59-9983-1dfeeb552544",
   "metadata": {},
   "outputs": [
    {
     "name": "stdin",
     "output_type": "stream",
     "text": [
      " 22\n"
     ]
    },
    {
     "name": "stdout",
     "output_type": "stream",
     "text": [
      "Even\n"
     ]
    }
   ],
   "source": [
    "if int(input()) % 2 == 0:\n",
    "    print(\"Even\")\n",
    "else:\n",
    "    print(\"Odd\")"
   ]
  },
  {
   "cell_type": "code",
   "execution_count": 47,
   "id": "926bfb2f-4acd-4f20-aacb-204838e7e0a3",
   "metadata": {},
   "outputs": [
    {
     "name": "stdout",
     "output_type": "stream",
     "text": [
      "Enter marks for 6 subjects\n",
      "Enter marks for subject 0\n"
     ]
    },
    {
     "name": "stdin",
     "output_type": "stream",
     "text": [
      " 60\n"
     ]
    },
    {
     "name": "stdout",
     "output_type": "stream",
     "text": [
      "Enter marks for subject 1\n"
     ]
    },
    {
     "name": "stdin",
     "output_type": "stream",
     "text": [
      " 20\n"
     ]
    },
    {
     "name": "stdout",
     "output_type": "stream",
     "text": [
      "Enter marks for subject 2\n"
     ]
    },
    {
     "name": "stdin",
     "output_type": "stream",
     "text": [
      " 60\n"
     ]
    },
    {
     "name": "stdout",
     "output_type": "stream",
     "text": [
      "Enter marks for subject 3\n"
     ]
    },
    {
     "name": "stdin",
     "output_type": "stream",
     "text": [
      " 70\n"
     ]
    },
    {
     "name": "stdout",
     "output_type": "stream",
     "text": [
      "Enter marks for subject 4\n"
     ]
    },
    {
     "name": "stdin",
     "output_type": "stream",
     "text": [
      " 80\n"
     ]
    },
    {
     "name": "stdout",
     "output_type": "stream",
     "text": [
      "Enter marks for subject 5\n"
     ]
    },
    {
     "name": "stdin",
     "output_type": "stream",
     "text": [
      " 20\n"
     ]
    },
    {
     "name": "stdout",
     "output_type": "stream",
     "text": [
      "Max marks = 80\n"
     ]
    }
   ],
   "source": [
    "# marks in 6 subjects\n",
    "marks = []\n",
    "print(\"Enter marks for 6 subjects\")\n",
    "for i in range(6):\n",
    "    print(f\"Enter marks for subject {i}\")\n",
    "    marks.append(int(input()))\n",
    "print(f\"Max marks = {max(marks)}\")"
   ]
  }
 ],
 "metadata": {
  "kernelspec": {
   "display_name": "Python 3 (ipykernel)",
   "language": "python",
   "name": "python3"
  },
  "language_info": {
   "codemirror_mode": {
    "name": "ipython",
    "version": 3
   },
   "file_extension": ".py",
   "mimetype": "text/x-python",
   "name": "python",
   "nbconvert_exporter": "python",
   "pygments_lexer": "ipython3",
   "version": "3.13.1"
  }
 },
 "nbformat": 4,
 "nbformat_minor": 5
}
