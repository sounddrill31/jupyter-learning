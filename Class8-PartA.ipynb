{
 "cells": [
  {
   "cell_type": "markdown",
   "id": "7763bf32",
   "metadata": {},
   "source": [
    "`re` or RegEX - Regular Expression"
   ]
  },
  {
   "cell_type": "code",
   "execution_count": 4,
   "id": "df96f219-089c-40cc-b156-d09ee7c431d7",
   "metadata": {},
   "outputs": [
    {
     "name": "stdout",
     "output_type": "stream",
     "text": [
      "Prices found: ['$25', '$3']\n",
      "Redacted text: The price of the book is [REDACTED]. The pen costs [REDACTED].\n"
     ]
    }
   ],
   "source": [
    "import re\n",
    "\n",
    "text = \"The price of the book is $25. The pen costs $3.\"\n",
    "pattern = r\"\\$\\d+\"\n",
    "matches = re.findall(pattern, text)\n",
    "print(\"Prices found:\", matches)\n",
    "redacted_text = re.sub(pattern, \"[REDACTED]\", text)\n",
    "print(\"Redacted text:\", redacted_text)"
   ]
  },
  {
   "cell_type": "code",
   "execution_count": 5,
   "id": "8baca8e7-bead-4266-a450-cefef1d7faf9",
   "metadata": {},
   "outputs": [
    {
     "name": "stdout",
     "output_type": "stream",
     "text": [
      "QWERU1232T: Valid\n",
      "XYZPQR1234Z: Invalid\n",
      "ABCDE56789: Invalid\n",
      "AB12C3456X: Invalid\n",
      "ABCDE123M: Invalid\n"
     ]
    }
   ],
   "source": [
    "# Check if the given expression are Valid or Invalid.\n",
    "import re\n",
    "\n",
    "pattern = r\"^[A-Za-z]{5}\\d{4}[A-Za-z]$\"\n",
    "\n",
    "pan = [\"QWERU1232T\",\"XYZPQR1234Z\",\"ABCDE56789\",\"AB12C3456X\",\"ABCDE123M\"]\n",
    "\n",
    "for entry in pan:\n",
    "    if re.fullmatch(pattern, entry):\n",
    "        print(f\"{entry}: Valid\")\n",
    "    else:\n",
    "        print(f\"{entry}: Invalid\")"
   ]
  }
 ],
 "metadata": {
  "kernelspec": {
   "display_name": "Python 3",
   "language": "python",
   "name": "python3"
  },
  "language_info": {
   "codemirror_mode": {
    "name": "ipython",
    "version": 3
   },
   "file_extension": ".py",
   "mimetype": "text/x-python",
   "name": "python",
   "nbconvert_exporter": "python",
   "pygments_lexer": "ipython3",
   "version": "3.11.3"
  }
 },
 "nbformat": 4,
 "nbformat_minor": 5
}
