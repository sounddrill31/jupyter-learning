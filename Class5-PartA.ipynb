{
 "cells": [
  {
   "cell_type": "code",
   "execution_count": 1,
   "id": "250755fa-4eac-497d-9809-40f50f623026",
   "metadata": {},
   "outputs": [],
   "source": [
    "import numpy as np\n",
    "import scipy.stats as stats\n",
    "\n",
    "\n",
    "def measure_diff(mu):\n",
    "    sample_heights = ([162, 168, 164, 170, 159, 166, 167, 165, 163, 161])\n",
    "    \n",
    "    # mean, our assumption taken as Hypothesis\n",
    "    #mu = 165\n",
    "    actual_mean = np.mean(sample_heights)\n",
    "    print(\"Hypothetical Mean: \", mu, \"cm\")\n",
    "    print(\"Actual Mean: \", actual_mean, \"cm\")\n",
    "    t_stat, p_value = stats.ttest_1samp(sample_heights, mu)\n",
    "    \n",
    "    criteria = 0.05\n",
    "    \n",
    "    print(f\"T-Statistics: {t_stat:.4f}\")\n",
    "    print(f\"P-Value: {p_value:.4f}\")\n",
    "    \n",
    "    # Decision rule, Significance level = 0.05\n",
    "    if p_value < 0.05:\n",
    "        print(f\"Reject NULL Hypothesis. Avg Height at {mu} cm is significantly different from {actual_mean} cm\")\n",
    "    else:\n",
    "        print(f\"Accept NULL Hypothesis. Avg Height is around {mu} cm\")"
   ]
  },
  {
   "cell_type": "code",
   "execution_count": 2,
   "id": "1c2e4f9a-af37-4216-8739-74a4b9e0e633",
   "metadata": {},
   "outputs": [
    {
     "name": "stdout",
     "output_type": "stream",
     "text": [
      "Hypothetical Mean:  165 cm\n",
      "Actual Mean:  164.5 cm\n",
      "T-Statistics: -0.4685\n",
      "P-Value: 0.6506\n",
      "Accept NULL Hypothesis. Avg Height is around 165 cm\n"
     ]
    }
   ],
   "source": [
    "measure_diff(165) # Passing mean as 165 cm"
   ]
  },
  {
   "cell_type": "code",
   "execution_count": 3,
   "id": "7a9ec3e9-d5c9-44ee-addd-dce739e3ac13",
   "metadata": {},
   "outputs": [
    {
     "name": "stdout",
     "output_type": "stream",
     "text": [
      "Hypothetical Mean:  200 cm\n",
      "Actual Mean:  164.5 cm\n",
      "T-Statistics: -33.2650\n",
      "P-Value: 0.0000\n",
      "Reject NULL Hypothesis. Avg Height at 200 cm is significantly different from 164.5 cm\n"
     ]
    }
   ],
   "source": [
    "measure_diff(200) # Passing mean as 200 cm"
   ]
  },
  {
   "cell_type": "code",
   "execution_count": 4,
   "id": "3f9fdb99-76cd-46bf-a556-9de275ca8853",
   "metadata": {},
   "outputs": [
    {
     "name": "stdout",
     "output_type": "stream",
     "text": [
      "Hypothetical Mean:  140 cm\n",
      "Actual Mean:  164.5 cm\n",
      "T-Statistics: 22.9575\n",
      "P-Value: 0.0000\n",
      "Reject NULL Hypothesis. Avg Height at 140 cm is significantly different from 164.5 cm\n"
     ]
    }
   ],
   "source": [
    "measure_diff(140) # Passing mean as 140 cm"
   ]
  }
 ],
 "metadata": {
  "kernelspec": {
   "display_name": "Python 3 (ipykernel)",
   "language": "python",
   "name": "python3"
  },
  "language_info": {
   "codemirror_mode": {
    "name": "ipython",
    "version": 3
   },
   "file_extension": ".py",
   "mimetype": "text/x-python",
   "name": "python",
   "nbconvert_exporter": "python",
   "pygments_lexer": "ipython3",
   "version": "3.13.1"
  }
 },
 "nbformat": 4,
 "nbformat_minor": 5
}
