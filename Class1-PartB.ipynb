{
 "cells": [
  {
   "cell_type": "markdown",
   "id": "917271d8-d831-471b-a35c-a466b59c8920",
   "metadata": {},
   "source": [
    "# What is an array?\n",
    "\n",
    "An Array stores contiguous data of any given type. \n",
    "\n",
    "It doesn't allow data of other types.\n"
   ]
  },
  {
   "cell_type": "markdown",
   "id": "759194eb-ae27-42fa-8f5c-1ea182525518",
   "metadata": {},
   "source": [
    "# List\n",
    "\n",
    "A list can store any type of data like mixed data, int, string, etc"
   ]
  },
  {
   "cell_type": "markdown",
   "id": "93736a08-bb2e-4933-9f9f-62f3aaa6fea0",
   "metadata": {},
   "source": [
    "Data analytics -> A lot of arrays and series of data\n",
    "\n",
    "Like `math`, there are many modules given by python to perform complicated tasks.\n",
    "\n",
    "One of the most important modules is `numpy`"
   ]
  },
  {
   "cell_type": "markdown",
   "id": "042ab327-5493-40ad-a01b-39f0aa617f8d",
   "metadata": {},
   "source": [
    "`numpy` example: m x n values of matrix. Let's explore docs demos"
   ]
  },
  {
   "cell_type": "code",
   "execution_count": 5,
   "id": "9d486ecf-1b9a-455f-8bf1-cfd77426bead",
   "metadata": {},
   "outputs": [],
   "source": [
    "import numpy as np"
   ]
  },
  {
   "cell_type": "code",
   "execution_count": 6,
   "id": "fe2ca153-a192-4319-8937-3f8154af70ca",
   "metadata": {},
   "outputs": [],
   "source": [
    "a = np.array([[1, 2, 3],\n",
    "              [4, 5, 6]])"
   ]
  },
  {
   "cell_type": "code",
   "execution_count": 7,
   "id": "7f241658-710d-443b-b371-7f30196b7933",
   "metadata": {},
   "outputs": [
    {
     "data": {
      "text/plain": [
       "(2, 3)"
      ]
     },
     "execution_count": 7,
     "metadata": {},
     "output_type": "execute_result"
    }
   ],
   "source": [
    "a.shape"
   ]
  },
  {
   "cell_type": "markdown",
   "id": "378e8815-8bb9-4648-988c-1594bc87052d",
   "metadata": {},
   "source": [
    "`shape` is not a function as it doesn't have ()"
   ]
  },
  {
   "cell_type": "code",
   "execution_count": 8,
   "id": "124a5eed-570c-42b3-a4d9-c9671bd344eb",
   "metadata": {},
   "outputs": [],
   "source": [
    "a = np.array([1, 2, 3, 4, 5, 6])"
   ]
  },
  {
   "cell_type": "code",
   "execution_count": 9,
   "id": "5627d083-9515-4c2c-8c08-278827a01c2f",
   "metadata": {},
   "outputs": [
    {
     "data": {
      "text/plain": [
       "array([1, 2, 3, 4, 5, 6])"
      ]
     },
     "execution_count": 9,
     "metadata": {},
     "output_type": "execute_result"
    }
   ],
   "source": [
    "a"
   ]
  },
  {
   "cell_type": "code",
   "execution_count": 10,
   "id": "f57e8f7a-c1ae-4c69-87b4-2e9722fe8810",
   "metadata": {},
   "outputs": [
    {
     "data": {
      "text/plain": [
       "array([10,  2,  3,  4,  5,  6])"
      ]
     },
     "execution_count": 10,
     "metadata": {},
     "output_type": "execute_result"
    }
   ],
   "source": [
    "a[0] = 10\n",
    "a"
   ]
  },
  {
   "cell_type": "code",
   "execution_count": 11,
   "id": "52c58098-a261-4606-8b7d-36b06543dd41",
   "metadata": {},
   "outputs": [
    {
     "data": {
      "text/plain": [
       "array([[ 1,  2,  3,  4],\n",
       "       [ 5,  6,  7,  8],\n",
       "       [ 9, 10, 11, 12]])"
      ]
     },
     "execution_count": 11,
     "metadata": {},
     "output_type": "execute_result"
    }
   ],
   "source": [
    "a = np.array([[1, 2, 3, 4], [5, 6, 7, 8], [9, 10, 11, 12]])\n",
    "a"
   ]
  },
  {
   "cell_type": "code",
   "execution_count": 13,
   "id": "efd0f6f8-fb7c-4104-82a0-915990bed63e",
   "metadata": {},
   "outputs": [
    {
     "data": {
      "text/plain": [
       "np.int64(12)"
      ]
     },
     "execution_count": 13,
     "metadata": {},
     "output_type": "execute_result"
    }
   ],
   "source": [
    "a[2, 3] # should be 12"
   ]
  },
  {
   "cell_type": "code",
   "execution_count": 14,
   "id": "c5aa9f3b-92b2-44e1-96f4-b53286851e97",
   "metadata": {},
   "outputs": [
    {
     "data": {
      "text/plain": [
       "array([1, 2, 3])"
      ]
     },
     "execution_count": 14,
     "metadata": {},
     "output_type": "execute_result"
    }
   ],
   "source": [
    "a = np.array([1, 2, 3, 4, 5, 6])\n",
    "a[:3]"
   ]
  },
  {
   "cell_type": "markdown",
   "id": "29baedc5-ba2f-4b94-a261-224eadee291f",
   "metadata": {},
   "source": [
    "^ This is called array splicing."
   ]
  },
  {
   "cell_type": "code",
   "execution_count": 15,
   "id": "82c9c982-6439-4f29-9769-a3667264e2a7",
   "metadata": {},
   "outputs": [
    {
     "ename": "TypeError",
     "evalue": "Field elements must be 2- or 3-tuples, got '1'",
     "output_type": "error",
     "traceback": [
      "\u001b[31m---------------------------------------------------------------------------\u001b[39m",
      "\u001b[31mTypeError\u001b[39m                                 Traceback (most recent call last)",
      "\u001b[36mCell\u001b[39m\u001b[36m \u001b[39m\u001b[32mIn[15]\u001b[39m\u001b[32m, line 1\u001b[39m\n\u001b[32m----> \u001b[39m\u001b[32m1\u001b[39m a = \u001b[43mnp\u001b[49m\u001b[43m.\u001b[49m\u001b[43marray\u001b[49m\u001b[43m(\u001b[49m\u001b[43m[\u001b[49m\u001b[32;43m1\u001b[39;49m\u001b[43m,\u001b[49m\u001b[43m \u001b[49m\u001b[32;43m2\u001b[39;49m\u001b[43m,\u001b[49m\u001b[43m \u001b[49m\u001b[32;43m3\u001b[39;49m\u001b[43m,\u001b[49m\u001b[43m \u001b[49m\u001b[32;43m4\u001b[39;49m\u001b[43m,\u001b[49m\u001b[43m \u001b[49m\u001b[32;43m5\u001b[39;49m\u001b[43m,\u001b[49m\u001b[43m \u001b[49m\u001b[32;43m6\u001b[39;49m\u001b[43m]\u001b[49m\u001b[43m,\u001b[49m\u001b[43m \u001b[49m\u001b[43m[\u001b[49m\u001b[32;43m1\u001b[39;49m\u001b[43m,\u001b[49m\u001b[43m \u001b[49m\u001b[32;43m2\u001b[39;49m\u001b[43m,\u001b[49m\u001b[43m \u001b[49m\u001b[32;43m3\u001b[39;49m\u001b[43m,\u001b[49m\u001b[43m \u001b[49m\u001b[32;43m4\u001b[39;49m\u001b[43m,\u001b[49m\u001b[43m \u001b[49m\u001b[32;43m5\u001b[39;49m\u001b[43m,\u001b[49m\u001b[43m \u001b[49m\u001b[32;43m6\u001b[39;49m\u001b[43m]\u001b[49m\u001b[43m)\u001b[49m\n\u001b[32m      2\u001b[39m a[:\u001b[32m3\u001b[39m]\n",
      "\u001b[31mTypeError\u001b[39m: Field elements must be 2- or 3-tuples, got '1'"
     ]
    }
   ],
   "source": [
    "a = np.array([1, 2, 3, 4, 5, 6], [1, 2, 3, 4, 5, 6])\n",
    "a[:3]"
   ]
  },
  {
   "cell_type": "code",
   "execution_count": 18,
   "id": "4271c781-5f69-405e-aa9f-ebdd1305be37",
   "metadata": {},
   "outputs": [
    {
     "data": {
      "text/plain": [
       "array([[1, 2, 3, 4, 5, 6],\n",
       "       [1, 2, 3, 4, 5, 6],\n",
       "       [1, 2, 3, 4, 5, 6]])"
      ]
     },
     "execution_count": 18,
     "metadata": {},
     "output_type": "execute_result"
    }
   ],
   "source": [
    "a = np.array([[1, 2, 3, 4, 5, 6], \n",
    "             [1, 2, 3, 4, 5, 6],\n",
    "             [1, 2, 3, 4, 5, 6],\n",
    "             [1, 2, 3, 4, 5, 6]])\n",
    "a[:3]"
   ]
  },
  {
   "cell_type": "code",
   "execution_count": null,
   "id": "8a01999e-8706-405b-b1d6-67ba2164bda4",
   "metadata": {},
   "outputs": [],
   "source": []
  }
 ],
 "metadata": {
  "kernelspec": {
   "display_name": "Python 3 (ipykernel)",
   "language": "python",
   "name": "python3"
  },
  "language_info": {
   "codemirror_mode": {
    "name": "ipython",
    "version": 3
   },
   "file_extension": ".py",
   "mimetype": "text/x-python",
   "name": "python",
   "nbconvert_exporter": "python",
   "pygments_lexer": "ipython3",
   "version": "3.13.1"
  }
 },
 "nbformat": 4,
 "nbformat_minor": 5
}
