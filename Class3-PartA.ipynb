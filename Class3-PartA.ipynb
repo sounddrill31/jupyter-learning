{
 "cells": [
  {
   "cell_type": "code",
   "execution_count": 1,
   "id": "de6427e9-9523-403d-948e-1eaee68bfb5f",
   "metadata": {},
   "outputs": [
    {
     "name": "stdout",
     "output_type": "stream",
     "text": [
      "   Customer_ID     Name         City\n",
      "0          101    Alice     New York\n",
      "1          102      Bob      Chicago\n",
      "2          103  Charlie  Los Angeles\n",
      "   Customer_ID Product  Amount\n",
      "0          101  Laptop    1200\n",
      "1          102   Phone     800\n",
      "2          104  Tablet     300\n"
     ]
    }
   ],
   "source": [
    "import pandas as pd\n",
    "\n",
    "# Dataframe\n",
    "customers_df = pd.DataFrame({\n",
    "    \"Customer_ID\": [101,102,103],\n",
    "    \"Name\": [\"Alice\", \"Bob\", \"Charlie\"],\n",
    "    \"City\": [\"New York\", \"Chicago\", \"Los Angeles\"]\n",
    "})\n",
    "\n",
    "transactions_df = pd.DataFrame({\n",
    "    \"Customer_ID\": [101,102,104],\n",
    "    \"Product\": [\"Laptop\", \"Phone\", \"Tablet\"],\n",
    "    \"Amount\": [1200, 800, 300]\n",
    "})\n",
    "\n",
    "print(f\"{customers_df}\")\n",
    "print(f\"{transactions_df}\")"
   ]
  },
  {
   "cell_type": "markdown",
   "id": "ce61364d-508b-42b8-ad3f-75ca64e1c998",
   "metadata": {},
   "source": [
    "Requirement: Report which customer purchased which product and amount"
   ]
  },
  {
   "cell_type": "code",
   "execution_count": 2,
   "id": "dfbc145a-17d5-4426-8317-ac040e804b94",
   "metadata": {},
   "outputs": [
    {
     "name": "stdout",
     "output_type": "stream",
     "text": [
      "\n",
      "Inner Join:\n",
      "   Customer_ID   Name      City Product  Amount\n",
      "0          101  Alice  New York  Laptop    1200\n",
      "1          102    Bob   Chicago   Phone     800\n",
      "\n",
      "Left Join:\n",
      "   Customer_ID     Name         City Product  Amount\n",
      "0          101    Alice     New York  Laptop  1200.0\n",
      "1          102      Bob      Chicago   Phone   800.0\n",
      "2          103  Charlie  Los Angeles     NaN     NaN\n",
      "\n",
      "Right Join:\n",
      "   Customer_ID   Name      City Product  Amount\n",
      "0          101  Alice  New York  Laptop    1200\n",
      "1          102    Bob   Chicago   Phone     800\n",
      "2          104    NaN       NaN  Tablet     300\n",
      "\n",
      "Outer Join:\n",
      "   Customer_ID     Name         City Product  Amount\n",
      "0          101    Alice     New York  Laptop  1200.0\n",
      "1          102      Bob      Chicago   Phone   800.0\n",
      "2          103  Charlie  Los Angeles     NaN     NaN\n",
      "3          104      NaN          NaN  Tablet   300.0\n"
     ]
    }
   ],
   "source": [
    "# Perform inner join to get only matching customers and trans\n",
    "print(f\"\\nInner Join:\\n{pd.merge(customers_df, transactions_df, on=\"Customer_ID\", how=\"inner\")}\")\n",
    "\n",
    "# Perform left join to get only matching customers and trans\n",
    "print(f\"\\nLeft Join:\\n{pd.merge(customers_df, transactions_df, on=\"Customer_ID\", how=\"left\")}\")\n",
    "\n",
    "# Perform Right join to get only matching customers and trans\n",
    "print(f\"\\nRight Join:\\n{pd.merge(customers_df, transactions_df, on=\"Customer_ID\", how=\"right\")}\")\n",
    "\n",
    "# Perform Outer join to get only matching customers and trans\n",
    "print(f\"\\nOuter Join:\\n{pd.merge(customers_df, transactions_df, on=\"Customer_ID\", how=\"outer\")}\")\n"
   ]
  },
  {
   "cell_type": "code",
   "execution_count": null,
   "id": "2915c8ba-56cc-4411-9b79-2137c989ddc7",
   "metadata": {},
   "outputs": [],
   "source": []
  }
 ],
 "metadata": {
  "kernelspec": {
   "display_name": "Python 3 (ipykernel)",
   "language": "python",
   "name": "python3"
  },
  "language_info": {
   "codemirror_mode": {
    "name": "ipython",
    "version": 3
   },
   "file_extension": ".py",
   "mimetype": "text/x-python",
   "name": "python",
   "nbconvert_exporter": "python",
   "pygments_lexer": "ipython3",
   "version": "3.13.1"
  }
 },
 "nbformat": 4,
 "nbformat_minor": 5
}
