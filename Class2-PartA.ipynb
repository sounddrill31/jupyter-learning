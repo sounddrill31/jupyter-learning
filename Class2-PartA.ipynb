{
 "cells": [
  {
   "cell_type": "markdown",
   "id": "96b02f05-ed2b-40da-888c-995237770eda",
   "metadata": {},
   "source": [
    "# What is numpy?\n",
    "\n",
    "Numpy is used to generate multidimensional arrays and has functions to work with them"
   ]
  },
  {
   "cell_type": "markdown",
   "id": "503bf4fc-1db2-446c-bb99-19a1c8465646",
   "metadata": {},
   "source": [
    "# What is pandas?\n",
    "\n",
    "Pandas is a python library which converts data into data frames to perform various operations\n",
    "\n",
    "Df(data frames) means data in rows and columns form."
   ]
  },
  {
   "cell_type": "markdown",
   "id": "2de5c2a6-e083-44cb-bfcd-f8fafd2c0fdc",
   "metadata": {},
   "source": [
    "Deps:\n",
    "```bash\n",
    "pip install pandas numpy matplotlib seaborn scipy\n",
    "```"
   ]
  },
  {
   "cell_type": "code",
   "execution_count": 13,
   "id": "dcfc321e-77f8-4578-bf47-3d488324a5d3",
   "metadata": {},
   "outputs": [
    {
     "name": "stdout",
     "output_type": "stream",
     "text": [
      "DataFrame: \n",
      "   ID     Name  Age  Salary    JoinDate PhoneNumber\n",
      "0  1    Alice   25   50000  2022-01-15  1234567890\n",
      "1  2      Bob   30   60000  2021-06-20  1234567890\n",
      "2  2      Bob   30   60000  2021-06-20  1234567890\n",
      "3  3  Charlie        70000  2020-03-10  1234567890\n",
      "4  4    David   45          2019-12-05  1234567890\n",
      "5  5      Eve   50   90000              1234567890\n",
      "6  6            22   40000  2023-05-18  1234567890\n",
      "7  7   George   23   30000  2022-07-21  1234567890\n",
      "8  8   Hannah  120   20000  2021-09-30  1234567890\n",
      "9  9      Ian   -5  100000  2018-11-11  1234567890\n",
      "\n",
      "Names:\n",
      " 0      Alice\n",
      "1        Bob\n",
      "2        Bob\n",
      "3    Charlie\n",
      "4      David\n",
      "5        Eve\n",
      "6           \n",
      "7     George\n",
      "8     Hannah\n",
      "9        Ian\n",
      "Name: Name, dtype: object\n",
      "\n",
      "Ages:\n",
      " 0     25\n",
      "1     30\n",
      "2     30\n",
      "3       \n",
      "4     45\n",
      "5     50\n",
      "6     22\n",
      "7     23\n",
      "8    120\n",
      "9     -5\n",
      "Name: Age, dtype: object\n",
      "\n",
      "Phone:\n",
      " 0    1234567890\n",
      "1    1234567890\n",
      "2    1234567890\n",
      "3    1234567890\n",
      "4    1234567890\n",
      "5    1234567890\n",
      "6    1234567890\n",
      "7    1234567890\n",
      "8    1234567890\n",
      "9    1234567890\n",
      "Name: PhoneNumber, dtype: object\n",
      "\n",
      "First Row:\n",
      " ID                      1\n",
      "Name                Alice\n",
      "Age                    25\n",
      "Salary              50000\n",
      "JoinDate       2022-01-15\n",
      "PhoneNumber    1234567890\n",
      "Name: 0, dtype: object\n"
     ]
    }
   ],
   "source": [
    "import numpy as np\n",
    "import pandas as pd\n",
    "\n",
    "data = {\n",
    "    'ID': ['1', '2', '2', '3', '4', '5', '6', '7', '8', '9'],\n",
    "    'Name': ['Alice', 'Bob', 'Bob', 'Charlie', 'David', 'Eve', '', 'George', 'Hannah', 'Ian'],\n",
    "    'Age': ['25', '30', '30', '', '45', '50', '22', '23', '120', '-5'],\n",
    "    'Salary': ['50000', '60000','60000', '70000', '', '90000', '40000', '30000', '20000', '100000'],\n",
    "    'JoinDate': ['2022-01-15', '2021-06-20', '2021-06-20', '2020-03-10', '2019-12-05', '', '2023-05-18', '2022-07-21', '2021-09-30', '2018-11-11'],\n",
    "    'PhoneNumber': ['1234567890', '1234567890','1234567890', '1234567890', '1234567890', '1234567890', '1234567890', '1234567890', '1234567890', '1234567890']\n",
    "    \n",
    "}\n",
    "\n",
    "df = pd.DataFrame(data)\n",
    "\n",
    "print(\"DataFrame: \\n\", df)\n",
    "\n",
    "print(\"\\nNames:\\n\", df['Name'])\n",
    "\n",
    "print(\"\\nAges:\\n\", df['Age'])\n",
    "\n",
    "print(\"\\nPhone:\\n\", df['PhoneNumber'])\n",
    "\n",
    "print(\"\\nFirst Row:\\n\", df.loc[0])"
   ]
  },
  {
   "cell_type": "markdown",
   "id": "3dccd564-0caf-44c3-a0c6-9df67a2720f3",
   "metadata": {},
   "source": [
    "Source:\n",
    "https://github.com/uttamds/Genesis/blob/master/Data%20Analytics/data_cleaning_excel.md?plain=1#L1\n",
    "| ID|Name|Age|Salary|JoinDate|\n",
    "| --- | --- | --- | --- | --- |\n",
    "|1|Alice|25|50000|2022-01-15|\n",
    "|2|Bob|30|60000|2021-06-20|\n",
    "|2 |Bob|30|60000|2021-06-20|\n",
    "|3 |Charlie| |70000|2020-03-10|\n",
    "|4| David|45| |2019-12-05|\n",
    "|5 |Eve|50|90000| |\n",
    "|6 | |22|40000|2023-05-18 |\n",
    "|7 |George|23|30000|2022-07-21 |\n",
    "|8 |Hannah|120|20000|2021-09-30 |\n",
    "|9 |Ian|-5|100000|2018-11-11 |"
   ]
  },
  {
   "cell_type": "code",
   "execution_count": 14,
   "id": "53d2bebf-5635-4979-98e5-b4530878fea2",
   "metadata": {},
   "outputs": [
    {
     "name": "stdout",
     "output_type": "stream",
     "text": [
      "Mean Age: 48.888888888888886\n",
      "Median Age: 45.0\n",
      "Mode Age: 25\n",
      "Standard Deviation: 22.329601678290437\n",
      "Variance: 498.6111111111111\n",
      "Range: 75\n",
      "Interquartile Range (IQR): 20.0\n",
      "\n",
      "Summary Statistics:\n",
      "              Age         Salary\n",
      "count    9.000000       9.000000\n",
      "mean    48.888889   97777.777778\n",
      "std     22.329602   44659.203357\n",
      "min     25.000000   50000.000000\n",
      "25%     35.000000   70000.000000\n",
      "50%     45.000000   90000.000000\n",
      "75%     55.000000  110000.000000\n",
      "max    100.000000  200000.000000\n"
     ]
    }
   ],
   "source": [
    "import pandas as pd\n",
    "import numpy as np\n",
    "from scipy import stats\n",
    "\n",
    "# Sample dataset\n",
    "data = {\n",
    "    'Age': [25, 30, 35, 40, 45, 50, 55, 60, 100],  # 100 is an outlier\n",
    "    'Salary': [50000, 60000, 70000, 80000, 90000, 100000, 110000, 120000, 200000]  # Outlier at 200k\n",
    "}\n",
    "\n",
    "# Create DataFrame\n",
    "df = pd.DataFrame(data)\n",
    "\n",
    "# 1️⃣ **Measures of Central Tendency**\n",
    "mean_age = df['Age'].mean()\n",
    "median_age = df['Age'].median()\n",
    "mode_age = stats.mode(df['Age'], keepdims=True)[0][0]\n",
    "\n",
    "# 2️⃣ **Measures of Dispersion**\n",
    "std_dev = df['Age'].std()  # Standard Deviation\n",
    "variance = df['Age'].var()  # Variance\n",
    "range_age = df['Age'].max() - df['Age'].min()  # Range\n",
    "iqr = np.percentile(df['Age'], 75) - np.percentile(df['Age'], 25)  # Interquartile Range (IQR)\n",
    "\n",
    "# 3️⃣ **Summary Statistics**\n",
    "summary = df.describe()\n",
    "\n",
    "# Print results\n",
    "print(\"Mean Age:\", mean_age)\n",
    "print(\"Median Age:\", median_age)\n",
    "print(\"Mode Age:\", mode_age)\n",
    "print(\"Standard Deviation:\", std_dev)\n",
    "print(\"Variance:\", variance)\n",
    "print(\"Range:\", range_age)\n",
    "print(\"Interquartile Range (IQR):\", iqr)\n",
    "\n",
    "print(\"\\nSummary Statistics:\")\n",
    "print(summary)"
   ]
  },
  {
   "cell_type": "code",
   "execution_count": null,
   "id": "c4928e8f-7889-4aa8-ad04-d5f6caba2e0a",
   "metadata": {},
   "outputs": [],
   "source": []
  }
 ],
 "metadata": {
  "kernelspec": {
   "display_name": "Python 3 (ipykernel)",
   "language": "python",
   "name": "python3"
  },
  "language_info": {
   "codemirror_mode": {
    "name": "ipython",
    "version": 3
   },
   "file_extension": ".py",
   "mimetype": "text/x-python",
   "name": "python",
   "nbconvert_exporter": "python",
   "pygments_lexer": "ipython3",
   "version": "3.13.1"
  }
 },
 "nbformat": 4,
 "nbformat_minor": 5
}
