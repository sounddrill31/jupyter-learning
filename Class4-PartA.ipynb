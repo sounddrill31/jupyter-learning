{
 "cells": [
  {
   "cell_type": "markdown",
   "id": "9f77721b-62d1-498b-98a6-d20152ff5dd0",
   "metadata": {},
   "source": [
    "# titanic.csv\n",
    "https://github.com/datasciencedojo/datasets/blob/master/titanic.csv\n",
    "\n",
    "Assume it is saved in C:\\Souhrud\\titanic.csv\n",
    "\n",
    "https://gist.github.com/netj/8836201\n",
    "Assume it is saved in C:\\Souhrud\\iris.csv\n"
   ]
  },
  {
   "cell_type": "code",
   "execution_count": 1,
   "id": "ee727607-e542-437a-9adb-f9f78c302911",
   "metadata": {},
   "outputs": [],
   "source": [
    "import numpy as np\n",
    "import pandas as pd\n",
    "\n",
    "df = pd.read_csv(\"C:/Souhrud/titanic.csv\")\n"
   ]
  },
  {
   "cell_type": "code",
   "execution_count": 2,
   "id": "a9fa6899-ad62-4d3f-a0fc-f598ce97e26a",
   "metadata": {},
   "outputs": [
    {
     "name": "stdout",
     "output_type": "stream",
     "text": [
      "Total rows: 891\n"
     ]
    }
   ],
   "source": [
    "print(f\"Total rows: {len(df)}\")"
   ]
  },
  {
   "cell_type": "markdown",
   "id": "c4f242ba-7fe4-4524-b29e-9fec06e57a68",
   "metadata": {},
   "source": [
    "# We use read_csv() function to read CSV files"
   ]
  },
  {
   "cell_type": "code",
   "execution_count": 3,
   "id": "25d6f2ae-2552-469d-b059-b50b531d8bb9",
   "metadata": {},
   "outputs": [
    {
     "name": "stdout",
     "output_type": "stream",
     "text": [
      "<class 'pandas.core.frame.DataFrame'>\n",
      "RangeIndex: 891 entries, 0 to 890\n",
      "Data columns (total 12 columns):\n",
      " #   Column       Non-Null Count  Dtype  \n",
      "---  ------       --------------  -----  \n",
      " 0   PassengerId  891 non-null    int64  \n",
      " 1   Survived     891 non-null    int64  \n",
      " 2   Pclass       891 non-null    int64  \n",
      " 3   Name         891 non-null    object \n",
      " 4   Sex          891 non-null    object \n",
      " 5   Age          714 non-null    float64\n",
      " 6   SibSp        891 non-null    int64  \n",
      " 7   Parch        891 non-null    int64  \n",
      " 8   Ticket       891 non-null    object \n",
      " 9   Fare         891 non-null    float64\n",
      " 10  Cabin        204 non-null    object \n",
      " 11  Embarked     889 non-null    object \n",
      "dtypes: float64(2), int64(5), object(5)\n",
      "memory usage: 83.7+ KB\n",
      "Empty in Titanic:\n"
     ]
    },
    {
     "data": {
      "text/plain": [
       "PassengerId      0\n",
       "Survived         0\n",
       "Pclass           0\n",
       "Name             0\n",
       "Sex              0\n",
       "Age            177\n",
       "SibSp            0\n",
       "Parch            0\n",
       "Ticket           0\n",
       "Fare             0\n",
       "Cabin          687\n",
       "Embarked         2\n",
       "dtype: int64"
      ]
     },
     "execution_count": 3,
     "metadata": {},
     "output_type": "execute_result"
    }
   ],
   "source": [
    "# Titanic Dataset, df\n",
    "\n",
    "df.info()\n",
    "df.describe()\n",
    "\n",
    "print(\"Empty in Titanic:\")\n",
    "df.isnull().sum()"
   ]
  },
  {
   "cell_type": "code",
   "execution_count": 4,
   "id": "158600c8-fc5f-4b3b-b9b1-6bc07e209e87",
   "metadata": {},
   "outputs": [
    {
     "name": "stdout",
     "output_type": "stream",
     "text": [
      "Total rows: 150\n"
     ]
    }
   ],
   "source": [
    "df2 = pd.read_csv(\"C:/Souhrud/iris.csv\")\n",
    "print(f\"Total rows: {len(df2)}\")\n"
   ]
  },
  {
   "cell_type": "code",
   "execution_count": 5,
   "id": "d44f6b32-aafc-48d7-83e3-d3cca4441225",
   "metadata": {},
   "outputs": [
    {
     "name": "stdout",
     "output_type": "stream",
     "text": [
      "<class 'pandas.core.frame.DataFrame'>\n",
      "RangeIndex: 150 entries, 0 to 149\n",
      "Data columns (total 5 columns):\n",
      " #   Column        Non-Null Count  Dtype  \n",
      "---  ------        --------------  -----  \n",
      " 0   sepal.length  150 non-null    float64\n",
      " 1   sepal.width   150 non-null    float64\n",
      " 2   petal.length  150 non-null    float64\n",
      " 3   petal.width   150 non-null    float64\n",
      " 4   variety       150 non-null    object \n",
      "dtypes: float64(4), object(1)\n",
      "memory usage: 6.0+ KB\n",
      "Empty in Iris:\n"
     ]
    },
    {
     "data": {
      "text/plain": [
       "sepal.length    0\n",
       "sepal.width     0\n",
       "petal.length    0\n",
       "petal.width     0\n",
       "variety         0\n",
       "dtype: int64"
      ]
     },
     "execution_count": 5,
     "metadata": {},
     "output_type": "execute_result"
    }
   ],
   "source": [
    "# Iris Dataset, df2\n",
    "\n",
    "df2.info()\n",
    "df2.describe()\n",
    "\n",
    "print(\"Empty in Iris:\")\n",
    "df2.isnull().sum()"
   ]
  },
  {
   "cell_type": "markdown",
   "id": "75e52751-2ff0-469a-a748-baa7e06414c4",
   "metadata": {},
   "source": [
    "# Data Correction"
   ]
  },
  {
   "cell_type": "code",
   "execution_count": 6,
   "id": "fdac9ddb-01bb-408e-884a-30da099710f8",
   "metadata": {},
   "outputs": [
    {
     "data": {
      "text/plain": [
       "PassengerId      0\n",
       "Survived         0\n",
       "Pclass           0\n",
       "Name             0\n",
       "Sex              0\n",
       "Age              0\n",
       "SibSp            0\n",
       "Parch            0\n",
       "Ticket           0\n",
       "Fare             0\n",
       "Cabin          687\n",
       "Embarked         2\n",
       "dtype: int64"
      ]
     },
     "execution_count": 6,
     "metadata": {},
     "output_type": "execute_result"
    }
   ],
   "source": [
    "# Titanic\n",
    "df.fillna({'Age': \"unknown\"}, inplace=True)\n",
    "df.isnull().sum()"
   ]
  },
  {
   "cell_type": "markdown",
   "id": "5de58511-6c31-49fd-9fc6-8bea46787ea2",
   "metadata": {},
   "source": [
    "## What is ML?\n",
    "- Subset of AI where systems learn from data to make decisions or predictions without being explicitly programmed.\n",
    "\n",
    "### Data\n",
    "- is the foundation\n",
    "- ML models learn from data\n",
    "\n",
    "### Algorithms\n",
    "- Set of instructions or methods used to build models\n",
    "\n",
    "### Model\n",
    "- Output of training, capable of making predictions or decision\n",
    "### Training and Testing\n",
    "- Splitting the data to evaluate the model's performance"
   ]
  },
  {
   "cell_type": "code",
   "execution_count": null,
   "id": "6a99a906-e9f7-4b04-b01f-36f75fbf3380",
   "metadata": {},
   "outputs": [],
   "source": []
  }
 ],
 "metadata": {
  "kernelspec": {
   "display_name": "Python 3 (ipykernel)",
   "language": "python",
   "name": "python3"
  },
  "language_info": {
   "codemirror_mode": {
    "name": "ipython",
    "version": 3
   },
   "file_extension": ".py",
   "mimetype": "text/x-python",
   "name": "python",
   "nbconvert_exporter": "python",
   "pygments_lexer": "ipython3",
   "version": "3.13.1"
  }
 },
 "nbformat": 4,
 "nbformat_minor": 5
}
