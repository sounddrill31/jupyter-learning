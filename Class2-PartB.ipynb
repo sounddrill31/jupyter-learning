{
 "cells": [
  {
   "cell_type": "code",
   "execution_count": 1,
   "id": "28dd6dee-9481-4a5c-9f58-b1571012048b",
   "metadata": {},
   "outputs": [
    {
     "name": "stdout",
     "output_type": "stream",
     "text": [
      "   ID     Name   Age         Salary   JoinDate\n",
      "0   1    Alice  25.0   50000.000000 2022-01-15\n",
      "1   2      Bob  30.0   60000.000000 2021-06-20\n",
      "3   3  Charlie  30.0   70000.000000 2020-03-10\n",
      "4   4    David  45.0   57777.777778 2019-12-05\n",
      "5   5      Eve  50.0   90000.000000        NaT\n",
      "6   6  Unknown  22.0   40000.000000 2023-05-18\n",
      "7   7   George  23.0   30000.000000 2022-07-21\n",
      "8   8   Hannah  30.0   20000.000000 2021-09-30\n",
      "9   9      Ian  30.0  100000.000000 2018-11-11\n"
     ]
    },
    {
     "name": "stderr",
     "output_type": "stream",
     "text": [
      "C:\\Users\\admin\\AppData\\Local\\Temp\\ipykernel_15592\\769915558.py:17: FutureWarning: A value is trying to be set on a copy of a DataFrame or Series through chained assignment using an inplace method.\n",
      "The behavior will change in pandas 3.0. This inplace method will never work because the intermediate object on which we are setting values always behaves as a copy.\n",
      "\n",
      "For example, when doing 'df[col].method(value, inplace=True)', try using 'df.method({col: value}, inplace=True)' or df[col] = df[col].method(value) instead, to perform the operation inplace on the original object.\n",
      "\n",
      "\n",
      "  df['Age'].fillna(df['Age'].median(), inplace=True)  # Replace NaN in Age with median\n",
      "C:\\Users\\admin\\AppData\\Local\\Temp\\ipykernel_15592\\769915558.py:18: FutureWarning: A value is trying to be set on a copy of a DataFrame or Series through chained assignment using an inplace method.\n",
      "The behavior will change in pandas 3.0. This inplace method will never work because the intermediate object on which we are setting values always behaves as a copy.\n",
      "\n",
      "For example, when doing 'df[col].method(value, inplace=True)', try using 'df.method({col: value}, inplace=True)' or df[col] = df[col].method(value) instead, to perform the operation inplace on the original object.\n",
      "\n",
      "\n",
      "  df['Salary'].fillna(df['Salary'].mean(), inplace=True)  # Replace NaN in Salary with mean\n",
      "C:\\Users\\admin\\AppData\\Local\\Temp\\ipykernel_15592\\769915558.py:19: FutureWarning: A value is trying to be set on a copy of a DataFrame or Series through chained assignment using an inplace method.\n",
      "The behavior will change in pandas 3.0. This inplace method will never work because the intermediate object on which we are setting values always behaves as a copy.\n",
      "\n",
      "For example, when doing 'df[col].method(value, inplace=True)', try using 'df.method({col: value}, inplace=True)' or df[col] = df[col].method(value) instead, to perform the operation inplace on the original object.\n",
      "\n",
      "\n",
      "  df['Name'].fillna('Unknown', inplace=True)  # Replace missing names with 'Unknown'\n"
     ]
    }
   ],
   "source": [
    "import pandas as pd\n",
    "import numpy as np\n",
    "\n",
    "# Sample dataset\n",
    "data = {\n",
    "    'ID': [1, 2, 2, 3, 4, 5, 6, 7, 8, 9],\n",
    "    'Name': ['Alice', 'Bob', 'Bob', 'Charlie', 'David', 'Eve', None, 'George', 'Hannah', 'Ian'],\n",
    "    'Age': [25, 30, 30, np.nan, 45, 50, 22, 23, 120, -5],  # Outliers and missing value\n",
    "    'Salary': [50000, 60000, 60000, 70000, None, 90000, 40000, 30000, 20000, 100000],  # Missing value\n",
    "    'JoinDate': ['2022-01-15', '2021-06-20', '2021-06-20', '2020-03-10', '2019-12-05', None, '2023-05-18', '2022-07-21', '2021-09-30', '2018-11-11']\n",
    "}\n",
    "\n",
    "# Create a DataFrame\n",
    "df = pd.DataFrame(data)\n",
    "\n",
    "# 1. Handling Missing Values\n",
    "df['Age'].fillna(df['Age'].median(), inplace=True)  # Replace NaN in Age with median\n",
    "df['Salary'].fillna(df['Salary'].mean(), inplace=True)  # Replace NaN in Salary with mean\n",
    "df['Name'].fillna('Unknown', inplace=True)  # Replace missing names with 'Unknown'\n",
    "\n",
    "# 2. Removing Duplicates\n",
    "df.drop_duplicates(inplace=True)\n",
    "\n",
    "# 3. Converting Data Types\n",
    "df['JoinDate'] = pd.to_datetime(df['JoinDate'], errors='coerce')  # Convert to datetime\n",
    "\n",
    "# 4. Handling Outliers in Age (Assuming valid age range is 18-100)\n",
    "df.loc[df['Age'] > 100, 'Age'] = df['Age'].median()\n",
    "df.loc[df['Age'] < 18, 'Age'] = df['Age'].median()\n",
    "\n",
    "# 5. Removing Negative or Invalid Salary\n",
    "df = df[df['Salary'] > 0]\n",
    "\n",
    "# Display cleaned data\n",
    "print(df)"
   ]
  },
  {
   "cell_type": "markdown",
   "id": "e93fc3b1-a4af-41d4-ace3-119e6da01fa9",
   "metadata": {},
   "source": [
    "Error:\n",
    "\n",
    "> For example, when doing 'df[col].method(value, inplace=True)', try using 'df.method({col: value}, inplace=True)' or df[col] = df[col].method(value) instead, to perform the operation inplace on the original object.\n"
   ]
  },
  {
   "cell_type": "code",
   "execution_count": 2,
   "id": "c3e0759a-c39f-40d4-9675-9e3204ef0c08",
   "metadata": {},
   "outputs": [
    {
     "name": "stdout",
     "output_type": "stream",
     "text": [
      "   ID     Name   Age         Salary   JoinDate\n",
      "0   1    Alice  25.0   50000.000000 2022-01-15\n",
      "1   2      Bob  30.0   60000.000000 2021-06-20\n",
      "3   3  Charlie  30.0   70000.000000 2020-03-10\n",
      "4   4    David  45.0   57777.777778 2019-12-05\n",
      "5   5      Eve  50.0   90000.000000        NaT\n",
      "6   6  Unknown  22.0   40000.000000 2023-05-18\n",
      "7   7   George  23.0   30000.000000 2022-07-21\n",
      "8   8   Hannah  30.0   20000.000000 2021-09-30\n",
      "9   9      Ian  30.0  100000.000000 2018-11-11\n"
     ]
    },
    {
     "name": "stderr",
     "output_type": "stream",
     "text": [
      "C:\\Users\\admin\\AppData\\Local\\Temp\\ipykernel_15592\\4099504874.py:19: FutureWarning: A value is trying to be set on a copy of a DataFrame or Series through chained assignment using an inplace method.\n",
      "The behavior will change in pandas 3.0. This inplace method will never work because the intermediate object on which we are setting values always behaves as a copy.\n",
      "\n",
      "For example, when doing 'df[col].method(value, inplace=True)', try using 'df.method({col: value}, inplace=True)' or df[col] = df[col].method(value) instead, to perform the operation inplace on the original object.\n",
      "\n",
      "\n",
      "  df['Name'].fillna('Unknown', inplace=True)  # Replace missing names with 'Unknown'\n"
     ]
    }
   ],
   "source": [
    "import pandas as pd\n",
    "import numpy as np\n",
    "\n",
    "# Sample dataset\n",
    "data = {\n",
    "    'ID': [1, 2, 2, 3, 4, 5, 6, 7, 8, 9],\n",
    "    'Name': ['Alice', 'Bob', 'Bob', 'Charlie', 'David', 'Eve', None, 'George', 'Hannah', 'Ian'],\n",
    "    'Age': [25, 30, 30, np.nan, 45, 50, 22, 23, 120, -5],  # Outliers and missing value\n",
    "    'Salary': [50000, 60000, 60000, 70000, None, 90000, 40000, 30000, 20000, 100000],  # Missing value\n",
    "    'JoinDate': ['2022-01-15', '2021-06-20', '2021-06-20', '2020-03-10', '2019-12-05', None, '2023-05-18', '2022-07-21', '2021-09-30', '2018-11-11']\n",
    "}\n",
    "\n",
    "# Create a DataFrame\n",
    "df = pd.DataFrame(data)\n",
    "\n",
    "# 1. Handling Missing Values\n",
    "df.fillna({'Age': df['Age'].median()}, inplace=True)  # Replace NaN in Age with median\n",
    "df.fillna({'Salary': df['Salary'].mean()}, inplace=True)  # Replace NaN in Salary with mean\n",
    "df.fillna({'Name': 'Unknown'}, inplace=True)  # Replace missing names with 'Unknown'\n",
    "\n",
    "# 2. Removing Duplicates\n",
    "df.drop_duplicates(inplace=True)\n",
    "\n",
    "# 3. Converting Data Types\n",
    "df['JoinDate'] = pd.to_datetime(df['JoinDate'], errors='coerce')  # Convert to datetime\n",
    "\n",
    "# 4. Handling Outliers in Age (Assuming valid age range is 18-100)\n",
    "df.loc[df['Age'] > 100, 'Age'] = df['Age'].median()\n",
    "df.loc[df['Age'] < 18, 'Age'] = df['Age'].median()\n",
    "\n",
    "# 5. Removing Negative or Invalid Salary\n",
    "df = df[df['Salary'] > 0]\n",
    "\n",
    "# Display cleaned data\n",
    "print(df)"
   ]
  },
  {
   "cell_type": "code",
   "execution_count": null,
   "id": "ad1a9e40-35c2-43d2-adf5-a4d4bfb9fe6d",
   "metadata": {},
   "outputs": [],
   "source": []
  }
 ],
 "metadata": {
  "kernelspec": {
   "display_name": "Python 3 (ipykernel)",
   "language": "python",
   "name": "python3"
  },
  "language_info": {
   "codemirror_mode": {
    "name": "ipython",
    "version": 3
   },
   "file_extension": ".py",
   "mimetype": "text/x-python",
   "name": "python",
   "nbconvert_exporter": "python",
   "pygments_lexer": "ipython3",
   "version": "3.13.1"
  }
 },
 "nbformat": 4,
 "nbformat_minor": 5
}
